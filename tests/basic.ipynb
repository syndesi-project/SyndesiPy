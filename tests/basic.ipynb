{
 "cells": [
  {
   "cell_type": "code",
   "execution_count": 12,
   "metadata": {},
   "outputs": [],
   "source": [
    "from sys import path\n",
    "path.append('../')\n",
    "from syndesi.device import Device\n",
    "#from syndesi.payloads import *\n",
    "from time import perf_counter\n",
    "from syndesi.interpreters.raw import Request\n",
    "from struct import pack, unpack\n",
    "from time import sleep"
   ]
  },
  {
   "cell_type": "code",
   "execution_count": 17,
   "metadata": {},
   "outputs": [
    {
     "name": "stdout",
     "output_type": "stream",
     "text": [
      "time = 104.99 ms\n"
     ]
    }
   ],
   "source": [
    "NUMBER_FORMAT = '!B'\n",
    "\n",
    "my_device = Device(\"test\")\n",
    "\n",
    "payload = Request()\n",
    "start = perf_counter()\n",
    "\n",
    "N = 100\n",
    "for i in range(N):\n",
    "    payload.data = pack(NUMBER_FORMAT, i)\n",
    "\n",
    "    reply = my_device.send(payload)\n",
    "\n",
    "    #j = unpack(NUMBER_FORMAT, reply.data)\n",
    "    #print(f\"{i} -> {j}\")\n",
    "    sleep(0.1)\n",
    "end = perf_counter()\n",
    "\n",
    "print(f\"time = {(end-start) / N * 1e3:.2f} ms\")"
   ]
  }
 ],
 "metadata": {
  "kernelspec": {
   "display_name": "Python 3.10.7 ('usr')",
   "language": "python",
   "name": "python3"
  },
  "language_info": {
   "codemirror_mode": {
    "name": "ipython",
    "version": 3
   },
   "file_extension": ".py",
   "mimetype": "text/x-python",
   "name": "python",
   "nbconvert_exporter": "python",
   "pygments_lexer": "ipython3",
   "version": "3.10.8"
  },
  "orig_nbformat": 4,
  "vscode": {
   "interpreter": {
    "hash": "767d51c1340bd893661ea55ea3124f6de3c7a262a8b4abca0554b478b1e2ff90"
   }
  }
 },
 "nbformat": 4,
 "nbformat_minor": 2
}
